{
 "cells": [
  {
   "cell_type": "code",
   "execution_count": 23,
   "id": "78eb5796-6f14-4842-b543-9c6c797c2b1c",
   "metadata": {},
   "outputs": [
    {
     "name": "stdout",
     "output_type": "stream",
     "text": [
      "Creating a list Method 1\n",
      "Enter the number of elements in the list:\n"
     ]
    },
    {
     "name": "stdin",
     "output_type": "stream",
     "text": [
      " 5\n"
     ]
    },
    {
     "name": "stdout",
     "output_type": "stream",
     "text": [
      "Enter the elements:\n"
     ]
    },
    {
     "name": "stdin",
     "output_type": "stream",
     "text": [
      " 1\n",
      " 2\n",
      " 3\n",
      " 4\n",
      " 5\n"
     ]
    },
    {
     "name": "stdout",
     "output_type": "stream",
     "text": [
      "[1, 2, 3, 4, 5]\n",
      "Creating a list Method 2:\n",
      "list2=[1,2,8,4,5]\n",
      "[1, 2, 8, 4, 5]\n",
      "Enter the element to add in the list\n"
     ]
    },
    {
     "name": "stdin",
     "output_type": "stream",
     "text": [
      " 6\n"
     ]
    },
    {
     "name": "stdout",
     "output_type": "stream",
     "text": [
      "After adding the list\n",
      "[1, 2, 3, 4, 5, '6']\n",
      "Enter the index and its element to add\n"
     ]
    },
    {
     "name": "stdin",
     "output_type": "stream",
     "text": [
      " 0\n",
      " 0\n"
     ]
    },
    {
     "name": "stdout",
     "output_type": "stream",
     "text": [
      "After adding the list\n",
      "[0, 1, 2, 3, 4, 5, '6']\n",
      "Enter the element to remove from the list\n"
     ]
    },
    {
     "name": "stdin",
     "output_type": "stream",
     "text": [
      " 2\n"
     ]
    },
    {
     "name": "stdout",
     "output_type": "stream",
     "text": [
      "After removing element the list\n",
      "[0, 1, 3, 4, 5, '6']\n",
      "Enter the index of element to remove from the list\n"
     ]
    },
    {
     "name": "stdin",
     "output_type": "stream",
     "text": [
      " 0\n"
     ]
    },
    {
     "name": "stdout",
     "output_type": "stream",
     "text": [
      "After removing element the list\n",
      "[1, 3, 4, 5, '6']\n",
      "The element need to be modify using index\n"
     ]
    },
    {
     "name": "stdin",
     "output_type": "stream",
     "text": [
      " 3\n"
     ]
    },
    {
     "name": "stdout",
     "output_type": "stream",
     "text": [
      "The value to be changed\n"
     ]
    },
    {
     "name": "stdin",
     "output_type": "stream",
     "text": [
      " 2\n"
     ]
    },
    {
     "name": "stdout",
     "output_type": "stream",
     "text": [
      "Modified list\n",
      "[1, 3, 4, 2, '6']\n"
     ]
    }
   ],
   "source": [
    "#List\n",
    "#Creating a list\n",
    "#By using list()\n",
    "print(\"Creating a list Method 1\")\n",
    "mylist=list()\n",
    "print(\"Enter the number of elements in the list:\")\n",
    "n=int(input())\n",
    "print(\"Enter the elements:\")\n",
    "for i in range(n):\n",
    "    elements=int(input())\n",
    "    mylist.append(elements)\n",
    "print(mylist)\n",
    "#Normal way\n",
    "print(\"Creating a list Method 2:\")\n",
    "list2=[1,2,8,4,5]\n",
    "print(\"list2=[1,2,8,4,5]\")\n",
    "print(list2)\n",
    "#________________________________________________________________________________________\n",
    "#Adding elements in a list:\n",
    "#To add element in a list:\n",
    "print(\"Enter the element to add in the list\")\n",
    "aelement=int(input())\n",
    "mylist.append(aelement)\n",
    "print(\"After adding the list\")\n",
    "print(mylist)\n",
    "#To add a element in a specific index:\n",
    "print(\"Enter the index and its element to add\")\n",
    "index=int(input())\n",
    "element=int(input())\n",
    "mylist.insert(index,element)\n",
    "print(\"After adding the list\")\n",
    "print(mylist)\n",
    "#______________________________________________________________________________________\n",
    "#Remove elements in a list:\n",
    "#To remove element by giving the element name or number:\n",
    "print(\"Enter the element to remove from the list\")\n",
    "relement=int(input())\n",
    "mylist.remove(relement)\n",
    "print(\"After removing element the list\")\n",
    "print(mylist)\n",
    "#To remove the element by giving the element index (Consider first element index as 0):\n",
    "print(\"Enter the index of element to remove from the list\")\n",
    "ielement=int(input())\n",
    "mylist.pop(ielement)\n",
    "print(\"After removing element the list\")\n",
    "print(mylist)\n",
    "#______________________________________________________________________________________\n",
    "#Modifying a list\n",
    "print(\"The element need to be modify using index\")\n",
    "mindex=int(input())\n",
    "print(\"The value to be changed\")\n",
    "melement=int(input())\n",
    "mylist[mindex]=melement\n",
    "print(\"Modified list\")\n",
    "print(mylist)\n",
    "\n",
    "\n",
    "\n",
    "\n",
    "\n"
   ]
  },
  {
   "cell_type": "code",
   "execution_count": 22,
   "id": "8e358c28-abc1-4d67-b245-e36d0a6788b9",
   "metadata": {},
   "outputs": [
    {
     "name": "stdout",
     "output_type": "stream",
     "text": [
      "Creating a dictionary Method 1\n",
      "Enter number of entries in the dictionary:\n"
     ]
    },
    {
     "name": "stdin",
     "output_type": "stream",
     "text": [
      " 3\n"
     ]
    },
    {
     "name": "stdout",
     "output_type": "stream",
     "text": [
      "Enter the value and key of dictionary\n",
      "1\n"
     ]
    },
    {
     "name": "stdin",
     "output_type": "stream",
     "text": [
      " 1\n",
      " Apple\n"
     ]
    },
    {
     "name": "stdout",
     "output_type": "stream",
     "text": [
      "2\n"
     ]
    },
    {
     "name": "stdin",
     "output_type": "stream",
     "text": [
      " 2\n",
      " Guava\n"
     ]
    },
    {
     "name": "stdout",
     "output_type": "stream",
     "text": [
      "3\n"
     ]
    },
    {
     "name": "stdin",
     "output_type": "stream",
     "text": [
      " 3\n",
      " Grapes\n"
     ]
    },
    {
     "name": "stdout",
     "output_type": "stream",
     "text": [
      "{'1': 'Apple', '2': 'Guava', '3': 'Grapes'}\n",
      "Creating a dictionary Method 2\n",
      "rdict={'1': 'Apple', '2': 'Mango'}\n",
      "Adding a new entry in the dictionary\n",
      "Enter the value of the new entry\n"
     ]
    },
    {
     "name": "stdin",
     "output_type": "stream",
     "text": [
      " 4\n"
     ]
    },
    {
     "name": "stdout",
     "output_type": "stream",
     "text": [
      "Enter the key for the new entry\n"
     ]
    },
    {
     "name": "stdin",
     "output_type": "stream",
     "text": [
      " Fig\n"
     ]
    },
    {
     "name": "stdout",
     "output_type": "stream",
     "text": [
      "Dictionary element after adding:\n",
      "{'1': 'Apple', '2': 'Guava', '3': 'Grapes', '4': 'Fig'}\n",
      "Enter the value of the entry to remove:\n"
     ]
    },
    {
     "name": "stdin",
     "output_type": "stream",
     "text": [
      " 2\n"
     ]
    },
    {
     "name": "stdout",
     "output_type": "stream",
     "text": [
      "Dictionary after removing the entry\n",
      "{'1': 'Apple', '3': 'Grapes', '4': 'Fig'}\n",
      "Enter the value of the entry to modify:\n"
     ]
    },
    {
     "name": "stdin",
     "output_type": "stream",
     "text": [
      " 4\n"
     ]
    },
    {
     "name": "stdout",
     "output_type": "stream",
     "text": [
      "Enter the key to change:\n"
     ]
    },
    {
     "name": "stdin",
     "output_type": "stream",
     "text": [
      " Banana\n"
     ]
    },
    {
     "name": "stdout",
     "output_type": "stream",
     "text": [
      "After modifying the dictionary:\n",
      "{'1': 'Apple', '3': 'Grapes', '4': 'Banana'}\n"
     ]
    }
   ],
   "source": [
    "#Creating a dictionary Method 1\n",
    "print(\"Creating a dictionary Method 1\")\n",
    "mydict=dict()\n",
    "print(\"Enter number of entries in the dictionary:\")\n",
    "n=int(input())\n",
    "print(\"Enter the value and key of dictionary\")\n",
    "for i in range(n):\n",
    "    print(i+1)\n",
    "    value=input()\n",
    "    key=input()\n",
    "    mydict[value]=key\n",
    "print(mydict)\n",
    "#Creating a dictionary Method 2\n",
    "print(\"Creating a dictionary Method 2\")\n",
    "rdict={'1': 'Apple', '2': 'Mango'}\n",
    "print(\"rdict={'1': 'Apple', '2': 'Mango'}\")\n",
    "#---------------------------------------------------------------------------------------------------------------------\n",
    "#Adding a new entry in the dictionary:\n",
    "print(\"Adding a new entry in the dictionary\")\n",
    "print(\"Enter the value of the new entry\")\n",
    "nvalue=input()\n",
    "print(\"Enter the key for the new entry\")\n",
    "nkey=input()\n",
    "mydict[nvalue]=nkey\n",
    "print(\"Dictionary element after adding:\")\n",
    "print(mydict)\n",
    "#-----------------------------------------------------------------------------------------------------------------------\n",
    "#Remove a entry in the dictionary:\n",
    "print(\"Enter the value of the entry to remove:\")\n",
    "rvalue=input()\n",
    "mydict.pop(rvalue)\n",
    "print(\"Dictionary after removing the entry\")\n",
    "print(mydict)\n",
    "#------------------------------------------------------------------------------------------------------------------------\n",
    "#Modifing a entry in the dictionary:\n",
    "print(\"Enter the value of the entry to modify:\")\n",
    "mvalue=input()\n",
    "print(\"Enter the key to change:\")\n",
    "mkey=input()\n",
    "mydict[mvalue]=mkey\n",
    "print(\"After modifying the dictionary:\")\n",
    "print(mydict)\n",
    "\n",
    "\n",
    "    "
   ]
  },
  {
   "cell_type": "code",
   "execution_count": 26,
   "id": "fbc9d33e-0a4a-4aab-b3df-726b0a4e9191",
   "metadata": {},
   "outputs": [
    {
     "name": "stdout",
     "output_type": "stream",
     "text": [
      "Creating a set Method 1\n",
      "Enter the number of elements in a set\n"
     ]
    },
    {
     "name": "stdin",
     "output_type": "stream",
     "text": [
      " 5\n"
     ]
    },
    {
     "name": "stdout",
     "output_type": "stream",
     "text": [
      "Enter the elements:\n"
     ]
    },
    {
     "name": "stdin",
     "output_type": "stream",
     "text": [
      " 1\n",
      " 2\n",
      " 3\n",
      " 4\n",
      " 5\n"
     ]
    },
    {
     "name": "stdout",
     "output_type": "stream",
     "text": [
      "{1, 2, 3, 4, 5}\n",
      "Creating a set Method 2\n",
      "rset={2,5,9,1}\n",
      "{9, 2, 5, 1}\n",
      "Enter the element to add in the set:\n"
     ]
    },
    {
     "name": "stdin",
     "output_type": "stream",
     "text": [
      " 6\n"
     ]
    },
    {
     "name": "stdout",
     "output_type": "stream",
     "text": [
      "After adding the element the set\n",
      "{1, 2, 3, 4, 5, 6}\n",
      "Enter the element to remove in the set:\n"
     ]
    },
    {
     "name": "stdin",
     "output_type": "stream",
     "text": [
      " 6\n"
     ]
    },
    {
     "name": "stdout",
     "output_type": "stream",
     "text": [
      "After removing the element the set:\n",
      "{1, 2, 3, 4, 5}\n",
      "We cannot modify elements in a set directly. Because set is unordered.\n"
     ]
    }
   ],
   "source": [
    "#Creating a set\n",
    "#Method1\n",
    "print(\"Creating a set Method 1\")\n",
    "myset=set()\n",
    "print(\"Enter the number of elements in a set\")\n",
    "n=int(input())\n",
    "print(\"Enter the elements:\")\n",
    "for i in range(n):\n",
    "    element=int(input())\n",
    "    myset.add(element)\n",
    "print(myset)\n",
    "#Method2\n",
    "print(\"Creating a set Method 2\")\n",
    "rset={2,5,9,1}\n",
    "print(\"rset={2,5,9,1}\")\n",
    "print(rset)\n",
    "#____________________________________________________________________________________________________________\n",
    "#Adding a element in a set\n",
    "print(\"Enter the element to add in the set:\")\n",
    "aelement=int(input())\n",
    "myset.add(aelement)\n",
    "print(\"After adding the element the set\")\n",
    "print(myset)\n",
    "#________________________________________________________________________________________________________________\n",
    "#Remove an element in a set\n",
    "print(\"Enter the element to remove in the set:\")\n",
    "relement=int(input())\n",
    "myset.remove(relement)\n",
    "print(\"After removing the element the set:\")\n",
    "print(myset)\n",
    "#________________________________________________________________________________________________________________\n",
    "#Modifing elements in a set:\n",
    "print(\"We cannot modify elements in a set directly. Because set is unordered.\")\n",
    "\n",
    "\n",
    "\n",
    "\n",
    "\n",
    "    "
   ]
  },
  {
   "cell_type": "code",
   "execution_count": null,
   "id": "f58832e7-8dc2-46b8-8f5c-776f7b17b5f3",
   "metadata": {},
   "outputs": [],
   "source": []
  }
 ],
 "metadata": {
  "kernelspec": {
   "display_name": "Python 3 (ipykernel)",
   "language": "python",
   "name": "python3"
  },
  "language_info": {
   "codemirror_mode": {
    "name": "ipython",
    "version": 3
   },
   "file_extension": ".py",
   "mimetype": "text/x-python",
   "name": "python",
   "nbconvert_exporter": "python",
   "pygments_lexer": "ipython3",
   "version": "3.12.4"
  }
 },
 "nbformat": 4,
 "nbformat_minor": 5
}
